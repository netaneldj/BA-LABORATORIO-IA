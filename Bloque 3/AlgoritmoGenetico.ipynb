{
 "cells": [
  {
   "cell_type": "markdown",
   "id": "tired-league",
   "metadata": {},
   "source": [
    "Comenzamos por importar las librerías correspondientes"
   ]
  },
  {
   "cell_type": "code",
   "execution_count": 1,
   "id": "simplified-specific",
   "metadata": {},
   "outputs": [
    {
     "ename": "ModuleNotFoundError",
     "evalue": "No module named 'fuzzywuzzy'",
     "output_type": "error",
     "traceback": [
      "\u001b[1;31m---------------------------------------------------------------------------\u001b[0m",
      "\u001b[1;31mModuleNotFoundError\u001b[0m                       Traceback (most recent call last)",
      "\u001b[1;32m<ipython-input-1-6a555043e028>\u001b[0m in \u001b[0;36m<module>\u001b[1;34m\u001b[0m\n\u001b[0;32m      1\u001b[0m \u001b[1;32mimport\u001b[0m \u001b[0mrandom\u001b[0m\u001b[1;33m\u001b[0m\u001b[1;33m\u001b[0m\u001b[0m\n\u001b[0;32m      2\u001b[0m \u001b[1;32mimport\u001b[0m \u001b[0mstring\u001b[0m\u001b[1;33m\u001b[0m\u001b[1;33m\u001b[0m\u001b[0m\n\u001b[1;32m----> 3\u001b[1;33m \u001b[1;32mfrom\u001b[0m \u001b[0mfuzzywuzzy\u001b[0m \u001b[1;32mimport\u001b[0m \u001b[0mfuzz\u001b[0m\u001b[1;33m\u001b[0m\u001b[1;33m\u001b[0m\u001b[0m\n\u001b[0m",
      "\u001b[1;31mModuleNotFoundError\u001b[0m: No module named 'fuzzywuzzy'"
     ]
    }
   ],
   "source": [
    "import random\n",
    "import string\n",
    "from fuzzywuzzy import fuzz"
   ]
  },
  {
   "cell_type": "markdown",
   "id": "accurate-volunteer",
   "metadata": {},
   "source": [
    "Luego definimos las variables que utilizaremos como parámetros generales del algoritmo"
   ]
  },
  {
   "cell_type": "code",
   "execution_count": 1,
   "id": "thorough-schedule",
   "metadata": {},
   "outputs": [],
   "source": [
    "in_str = None\n",
    "in_str_len = None\n",
    "population = 20\n",
    "generations = 1000"
   ]
  },
  {
   "cell_type": "raw",
   "id": "weighted-mortgage",
   "metadata": {},
   "source": []
  },
  {
   "cell_type": "code",
   "execution_count": 2,
   "id": "fifth-above",
   "metadata": {},
   "outputs": [],
   "source": [
    "class Agent:\n",
    "\n",
    "    def __init__(self, length):\n",
    "        self.string = \"\".join(random.choice(string.ascii_letters) for _ in range(length))\n",
    "        self.fitness = -1\n",
    "\n",
    "    def __str__(self):\n",
    "        return \"String: \" + str(self.string) + \" aptitud: \" + str(self.fitness) \n"
   ]
  },
  {
   "cell_type": "code",
   "execution_count": null,
   "id": "logical-priest",
   "metadata": {},
   "outputs": [],
   "source": []
  },
  {
   "cell_type": "code",
   "execution_count": 4,
   "id": "least-despite",
   "metadata": {},
   "outputs": [],
   "source": [
    "def ga():\n",
    "    agents = init_agents(population,in_str_len)\n",
    "\n",
    "    threshold = False    \n",
    "    for generation in range(generations):\n",
    "            \n",
    "\n",
    "        agents = fitness(agents)\n",
    "        agents = selection(agents)\n",
    "        agents = crossover(agents)\n",
    "        agents = mutation(agents)\n",
    "\n",
    "        for agent in agents:\n",
    "            if agent.fitness == 100:\n",
    "                print (\"Generación \" + str(generation) + \". Convergió: \" + str(agent))\n",
    "                threshold = True\n",
    "        if threshold:\n",
    "            break\n",
    "        else:\n",
    "            print (\"Generación \" + str(generation) + \": \" + str(agents[0]))\n",
    "        \n",
    "\n",
    "                "
   ]
  },
  {
   "cell_type": "code",
   "execution_count": null,
   "id": "capital-patch",
   "metadata": {},
   "outputs": [],
   "source": []
  },
  {
   "cell_type": "code",
   "execution_count": 5,
   "id": "thorough-humor",
   "metadata": {},
   "outputs": [],
   "source": [
    "def init_agents(population,length):\n",
    "    return [Agent(lenght)for_in range (population)]\n",
    "\n",
    "def fitness(agents):\n",
    "    for agent in agents:\n",
    "        agent.fitness = fuzz.ratio(agent.string, in_str)\n",
    "    return agents\n",
    "\n",
    "def selection(agents):\n",
    "    agents = sorted(agents, key=lambda agent: agent.fitness, reverse=True)\n",
    "    agents = agents[:int(0.2 * len(agents))]\n",
    "    return agents\n",
    "\n",
    "def crossover(agents):\n",
    "    offspring = []\n",
    "    for _ in  range(int((population - len(agents)) / 2)):\n",
    "        parent1 = random.choice(agents)\n",
    "        parent2 = random.choice(agents)\n",
    "        child1 =  Agent(in_str_len)\n",
    "        child2 =  Agent(in_str_len)\n",
    "        split = random.randint(0, in_str_len)\n",
    "        child1.string = parent1.string[0:split] + parent2.string[split:in_str_len]\n",
    "        child2.string = parent2.string[0:split] + parent1.string[split:in_str_len]\n",
    "\n",
    "        offspring.append(child1)\n",
    "        offspring.append(child2)\n",
    "\n",
    "    agents.extend(offspring)\n",
    "\n",
    "    return agents\n",
    "\n",
    "def mutation(agents):\n",
    "    for agent in agents:\n",
    "        for idx, param in enumerate(agent.string):\n",
    "            if random.uniform(0.0, 1.0) <= 0.1:\n",
    "                agent.string = agent.string[0:idx] + random.choice(string.ascii_letters) + agent.string[idx+1:in_str_len]\n",
    "    return agents"
   ]
  },
  {
   "cell_type": "code",
   "execution_count": null,
   "id": "natural-contractor",
   "metadata": {},
   "outputs": [],
   "source": []
  },
  {
   "cell_type": "code",
   "execution_count": 3,
   "id": "equipped-sussex",
   "metadata": {},
   "outputs": [
    {
     "ename": "NameError",
     "evalue": "name 'ga' is not defined",
     "output_type": "error",
     "traceback": [
      "\u001b[1;31m---------------------------------------------------------------------------\u001b[0m",
      "\u001b[1;31mNameError\u001b[0m                                 Traceback (most recent call last)",
      "\u001b[1;32m<ipython-input-3-f527549e9842>\u001b[0m in \u001b[0;36m<module>\u001b[1;34m\u001b[0m\n\u001b[0;32m      1\u001b[0m \u001b[0min_str\u001b[0m \u001b[1;33m=\u001b[0m \u001b[1;34m\"casa\"\u001b[0m\u001b[1;33m\u001b[0m\u001b[1;33m\u001b[0m\u001b[0m\n\u001b[0;32m      2\u001b[0m \u001b[0min_str_len\u001b[0m \u001b[1;33m=\u001b[0m \u001b[0mlen\u001b[0m\u001b[1;33m(\u001b[0m\u001b[0min_str\u001b[0m\u001b[1;33m)\u001b[0m\u001b[1;33m\u001b[0m\u001b[1;33m\u001b[0m\u001b[0m\n\u001b[1;32m----> 3\u001b[1;33m \u001b[0mga\u001b[0m\u001b[1;33m(\u001b[0m\u001b[1;33m)\u001b[0m\u001b[1;33m\u001b[0m\u001b[1;33m\u001b[0m\u001b[0m\n\u001b[0m",
      "\u001b[1;31mNameError\u001b[0m: name 'ga' is not defined"
     ]
    }
   ],
   "source": [
    "in_str = \"casa\"\n",
    "in_str_len = len(in_str)\n",
    "ga()"
   ]
  },
  {
   "cell_type": "code",
   "execution_count": null,
   "id": "representative-motion",
   "metadata": {},
   "outputs": [],
   "source": []
  }
 ],
 "metadata": {
  "kernelspec": {
   "display_name": "Python 3",
   "language": "python",
   "name": "python3"
  },
  "language_info": {
   "codemirror_mode": {
    "name": "ipython",
    "version": 3
   },
   "file_extension": ".py",
   "mimetype": "text/x-python",
   "name": "python",
   "nbconvert_exporter": "python",
   "pygments_lexer": "ipython3",
   "version": "3.8.5"
  }
 },
 "nbformat": 4,
 "nbformat_minor": 5
}
