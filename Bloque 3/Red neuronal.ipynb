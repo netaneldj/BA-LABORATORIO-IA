{
 "cells": [
  {
   "cell_type": "markdown",
   "metadata": {},
   "source": [
    "En este ejercicio, intentará construir una red neuronal que prediga el precio de una casa de acuerdo con una fórmula simple.\n",
    "\n",
    "Imagine que el precio de la casa sea $50000 + 50000 por habitación, de modo que una casa de 1 habitación cuesta 100000, una casa de 2 habitaciones cuesta 150000, etc.\n",
    "\n",
    "¿Cómo crearía una red neuronal que aprenda esta relación para predecir que una casa de 7 habitaciones cuesta cerca de 400000, por ejemplo?\n",
    "\n",
    "Sugerencia: su red podría funcionar mejor si reduce el precio de la vivienda. No tiene que dar la respuesta 400 ... podría ser mejor crear algo que prediga el número 4, y luego su respuesta está en los 'cientos de miles'."
   ]
  },
  {
   "cell_type": "markdown",
   "metadata": {},
   "source": [
    "Primero importamos las librerías"
   ]
  },
  {
   "cell_type": "code",
   "execution_count": 6,
   "metadata": {},
   "outputs": [],
   "source": [
    "import tensorflow as tf\n",
    "import numpy as np\n",
    "from tensorflow import keras"
   ]
  },
  {
   "cell_type": "markdown",
   "metadata": {},
   "source": [
    "Luego Defiimos la red neuronal. En este caso constará de una única neurona."
   ]
  },
  {
   "cell_type": "code",
   "execution_count": 7,
   "metadata": {},
   "outputs": [],
   "source": [
    "model = tf.keras.Sequential([keras.layers.Dense(units=1, input_shape=[1])])\n",
    "model.compile(optimizer='sgd', loss='mean_squared_error')"
   ]
  },
  {
   "cell_type": "markdown",
   "metadata": {},
   "source": [
    "Ahora cargamos los datos para el entrenamiento. Por un lado los valores de X, y por el otro los valores de Y. Con 6 o 7 ejemplos estaremos bien."
   ]
  },
  {
   "cell_type": "code",
   "execution_count": 8,
   "metadata": {},
   "outputs": [],
   "source": [
    "xs = #SuCódigoAquí\n",
    "ys = #SuCódigoAquí"
   ]
  },
  {
   "cell_type": "markdown",
   "metadata": {},
   "source": [
    "Ahora le diremos a la red neuronal que se ajuste a los datos de entrenamiento"
   ]
  },
  {
   "cell_type": "code",
   "execution_count": 9,
   "metadata": {},
   "outputs": [
    {
     "name": "stdout",
     "output_type": "stream",
     "text": [
      "Epoch 1/30\n",
      "1/1 [==============================] - 0s 148ms/step - loss: 37916110848.0000\n",
      "Epoch 2/30\n",
      "1/1 [==============================] - 0s 2ms/step - loss: 24544299008.0000\n",
      "Epoch 3/30\n",
      "1/1 [==============================] - 0s 3ms/step - loss: 15929705472.0000\n",
      "Epoch 4/30\n",
      "1/1 [==============================] - 0s 2ms/step - loss: 10379385856.0000\n",
      "Epoch 5/30\n",
      "1/1 [==============================] - 0s 2ms/step - loss: 6802870272.0000\n",
      "Epoch 6/30\n",
      "1/1 [==============================] - 0s 2ms/step - loss: 4497752064.0000\n",
      "Epoch 7/30\n",
      "1/1 [==============================] - 0s 2ms/step - loss: 3011597056.0000\n",
      "Epoch 8/30\n",
      "1/1 [==============================] - 0s 2ms/step - loss: 2052972672.0000\n",
      "Epoch 9/30\n",
      "1/1 [==============================] - 0s 2ms/step - loss: 1434162304.0000\n",
      "Epoch 10/30\n",
      "1/1 [==============================] - 0s 2ms/step - loss: 1034251584.0000\n",
      "Epoch 11/30\n",
      "1/1 [==============================] - 0s 2ms/step - loss: 775356160.0000\n",
      "Epoch 12/30\n",
      "1/1 [==============================] - 0s 2ms/step - loss: 607307968.0000\n",
      "Epoch 13/30\n",
      "1/1 [==============================] - 0s 2ms/step - loss: 497791712.0000\n",
      "Epoch 14/30\n",
      "1/1 [==============================] - 0s 2ms/step - loss: 425993216.0000\n",
      "Epoch 15/30\n",
      "1/1 [==============================] - 0s 2ms/step - loss: 378504288.0000\n",
      "Epoch 16/30\n",
      "1/1 [==============================] - 0s 3ms/step - loss: 346688416.0000\n",
      "Epoch 17/30\n",
      "1/1 [==============================] - 0s 2ms/step - loss: 324982560.0000\n",
      "Epoch 18/30\n",
      "1/1 [==============================] - 0s 2ms/step - loss: 309803168.0000\n",
      "Epoch 19/30\n",
      "1/1 [==============================] - 0s 2ms/step - loss: 298841568.0000\n",
      "Epoch 20/30\n",
      "1/1 [==============================] - 0s 2ms/step - loss: 290610912.0000\n",
      "Epoch 21/30\n",
      "1/1 [==============================] - 0s 2ms/step - loss: 284153248.0000\n",
      "Epoch 22/30\n",
      "1/1 [==============================] - 0s 2ms/step - loss: 278851008.0000\n",
      "Epoch 23/30\n",
      "1/1 [==============================] - 0s 2ms/step - loss: 274306496.0000\n",
      "Epoch 24/30\n",
      "1/1 [==============================] - 0s 2ms/step - loss: 270263456.0000\n",
      "Epoch 25/30\n",
      "1/1 [==============================] - 0s 3ms/step - loss: 266556560.0000\n",
      "Epoch 26/30\n",
      "1/1 [==============================] - 0s 3ms/step - loss: 263079056.0000\n",
      "Epoch 27/30\n",
      "1/1 [==============================] - 0s 3ms/step - loss: 259762352.0000\n",
      "Epoch 28/30\n",
      "1/1 [==============================] - 0s 3ms/step - loss: 256561616.0000\n",
      "Epoch 29/30\n",
      "1/1 [==============================] - 0s 3ms/step - loss: 253448512.0000\n",
      "Epoch 30/30\n",
      "1/1 [==============================] - 0s 3ms/step - loss: 250403968.0000\n"
     ]
    },
    {
     "data": {
      "text/plain": [
       "<tensorflow.python.keras.callbacks.History at 0x7f9a02571ac0>"
      ]
     },
     "execution_count": 9,
     "metadata": {},
     "output_type": "execute_result"
    }
   ],
   "source": [
    "model.fit(xs,ys,epochs=3000)"
   ]
  },
  {
   "cell_type": "markdown",
   "metadata": {},
   "source": [
    "Por último, le pediremos que nos diga cuánto custa una casa con 7 habitaciones"
   ]
  },
  {
   "cell_type": "code",
   "execution_count": 10,
   "metadata": {},
   "outputs": [
    {
     "name": "stdout",
     "output_type": "stream",
     "text": [
      "[[426498.]]\n"
     ]
    }
   ],
   "source": [
    "print(model.predict([#SuCódigoAquí]))"
   ]
  },
  {
   "cell_type": "code",
   "execution_count": null,
   "metadata": {},
   "outputs": [],
   "source": []
  }
 ],
 "metadata": {
  "kernelspec": {
   "display_name": "Python 3",
   "language": "python",
   "name": "python3"
  },
  "language_info": {
   "codemirror_mode": {
    "name": "ipython",
    "version": 3
   },
   "file_extension": ".py",
   "mimetype": "text/x-python",
   "name": "python",
   "nbconvert_exporter": "python",
   "pygments_lexer": "ipython3",
   "version": "3.7.1"
  }
 },
 "nbformat": 4,
 "nbformat_minor": 5
}
