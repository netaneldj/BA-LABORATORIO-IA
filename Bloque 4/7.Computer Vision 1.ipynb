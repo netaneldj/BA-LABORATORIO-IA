{
 "cells": [
  {
   "cell_type": "markdown",
   "metadata": {},
   "source": [
    "# Introducción a la visión artificial\n",
    "* Versión 1.1 *\n",
    "\n",
    "Para navegar hacia arriba y hacia abajo, puede usar las teclas de flecha hacia arriba y hacia abajo en su teclado <br />\n",
    "Para ejecutar código en este libro de trabajo, seleccione el bloque de código y presione ** Shift + Enter ** <br />\n",
    "Para editar el bloque de código, presione enter.\n",
    "\n",
    "¡Así que comience desde arriba y trabaje hacia abajo para evitar resultados inesperados!\n",
    "\n",
    "\n",
    "Para obtener más ayuda sobre el uso de Jupyter Notebook, puede hacer clic en Ayuda> Recorrido por la interfaz de usuario en el menú de arriba, <br />\n",
    "o visite https://jupyter-notebook.readthedocs.io/en/stable/ui_components.html\n",
    "\n",
    "Experimente y pruebe sus ideas, ¡porque esa es una de las formas más rápidas de aprender!"
   ]
  },
  {
   "cell_type": "markdown",
   "metadata": {},
   "source": [
    "## 1. ¿Cómo ven las computadoras?\n",
    "¿Por dónde empezamos?\n",
    "\n",
    "De manera similar a como reconocemos los humanos, hay 2 partes. <br />\n",
    "1) Ver con los ojos (o en este caso dada una imagen) <br />\n",
    "2) Dar sentido a lo que vemos (reconocer a su amigo o lo que escribió o dibujó en la pulsera)"
   ]
  },
  {
   "cell_type": "markdown",
   "metadata": {},
   "source": [
    "### Empezando con el código"
   ]
  },
  {
   "cell_type": "markdown",
   "metadata": {},
   "source": [
    "En este taller, utilizaremos Intel® Distribution para Python y OpenCV.\n",
    "\n",
    "Otra biblioteca Python útil será la biblioteca Numpy, que es muy útil para manipulaciones rápidas de matrices. Las imágenes se almacenan en realidad como matrices / matrices de píxeles y, por lo tanto, Numpy sería muy útil para ayudarnos a hacer un procesamiento de imágenes más rápido.\n",
    "\n",
    "Si no tiene experiencia previa con Python y Numpy, <br />\n",
    "puede obtener una buena introducción en línea en https://www.datacamp.com/courses/intro-to-python-for-data-science\n",
    "\n",
    "Para ejecutar el bloque de código a continuación, selecciónelo y presione ** Shift + Enter ** <br />\n",
    "Los resultados de su ejecución se imprimirán directamente debajo del bloque de código. En este caso, le mostrará su versión instalada de OpenCV y Python.\n",
    "\n",
    "### Importando tus bibliotecas"
   ]
  },
  {
   "cell_type": "code",
   "execution_count": 1,
   "metadata": {},
   "outputs": [
    {
     "name": "stdout",
     "output_type": "stream",
     "text": [
      "Ha instalado correctamente la versión de OpenCV 4.5.1\n",
      "Su version de python es 3.8.5 (default, Sep  3 2020, 21:29:08) [MSC v.1916 64 bit (AMD64)]\n"
     ]
    }
   ],
   "source": [
    "import cv2              #Import the OpenCV Library\n",
    "import numpy as np      #Import the Numpy library\n",
    "import sys\n",
    "\n",
    "print (\"Ha instalado correctamente la versión de OpenCV \"+cv2.__version__)\n",
    "print (\"Su version de python es \" + sys.version)"
   ]
  },
  {
   "cell_type": "markdown",
   "metadata": {},
   "source": [
    "### 1.1 Viendo. ¡Mostremos nuestra primera imagen!"
   ]
  },
  {
   "cell_type": "code",
   "execution_count": 2,
   "metadata": {},
   "outputs": [
    {
     "data": {
      "text/plain": [
       "-1"
      ]
     },
     "execution_count": 2,
     "metadata": {},
     "output_type": "execute_result"
    }
   ],
   "source": [
    "img = cv2.imread(\"images_cv/image001.png\")   #Load the image file into memory\n",
    "cv2.startWindowThread()\n",
    "cv2.imshow(\"Image\", img)                  #Display that image\n",
    "\n",
    "cv2.waitKey(0)                            #Cleanup after any key is pressed\n",
    "cv2.destroyAllWindows()\n",
    "cv2.waitKey(1)"
   ]
  },
  {
   "cell_type": "markdown",
   "metadata": {},
   "source": [
    "#### Después de ejecutar el bloque de código anterior, ¡revise las nuevas ventanas para ver si se ha producido la imagen!\n",
    "\n",
    "¡Averigüemos cuál es el tamaño de esta imagen!"
   ]
  },
  {
   "cell_type": "code",
   "execution_count": 3,
   "metadata": {},
   "outputs": [
    {
     "name": "stdout",
     "output_type": "stream",
     "text": [
      "(600, 800)\n"
     ]
    }
   ],
   "source": [
    "print (img[:,:,2].shape)"
   ]
  },
  {
   "cell_type": "markdown",
   "metadata": {},
   "source": [
    "¡Genial! Ha utilizado OpenCV para leer su imagen y mostrarla en otra ventana.\n",
    "\n",
    "Sin embargo, también hemos aprendido en la etapa de adquisición que podemos usar otra biblioteca para mostrar la imagen en este cuaderno. ¿Recuerdas qué biblioteca es?\n",
    "\n",
    "### Tarea 1: Importe la biblioteca matplotlib y muestre la imagen en este cuaderno."
   ]
  },
  {
   "cell_type": "code",
   "execution_count": 4,
   "metadata": {
    "scrolled": true
   },
   "outputs": [
    {
     "data": {
      "image/png": "[encoded data removed]",
      "text/plain": [
       "<Figure size 432x288 with 1 Axes>"
      ]
     },
     "metadata": {
      "needs_background": "light"
     },
     "output_type": "display_data"
    }
   ],
   "source": [
    "from matplotlib import pyplot as plt # import matplotlib\n",
    "\n",
    "img_1 = cv2.imread(\"images_cv/image001.png\")   #Load the image file into memory\n",
    "img_1 = cv2.cvtColor(img_1,cv2.COLOR_BGR2RGB)\n",
    "plt.imshow(img_1)\n",
    "plt.title('Image001')\n",
    "plt.show()\n"
   ]
  },
  {
   "cell_type": "markdown",
   "metadata": {},
   "source": [
    "¿Es correcto su color? Si no es así, recuerde usar el comando correcto para cambiar el espacio de color."
   ]
  },
  {
   "cell_type": "markdown",
   "metadata": {},
   "source": [
    "¿Cree que la computadora comprende lo que hay en la imagen en esta etapa?"
   ]
  },
  {
   "cell_type": "markdown",
   "metadata": {},
   "source": [
    "### 1.1b En lugar de solo una imagen, ¿qué tal si usas tu cámara web?"
   ]
  },
  {
   "cell_type": "code",
   "execution_count": 5,
   "metadata": {},
   "outputs": [
    {
     "ename": "error",
     "evalue": "OpenCV(4.5.1) C:\\Users\\appveyor\\AppData\\Local\\Temp\\1\\pip-req-build-kh7iq4w7\\opencv\\modules\\highgui\\src\\window.cpp:376: error: (-215:Assertion failed) size.width>0 && size.height>0 in function 'cv::imshow'\n",
     "output_type": "error",
     "traceback": [
      "\u001b[1;31m---------------------------------------------------------------------------\u001b[0m",
      "\u001b[1;31merror\u001b[0m                                     Traceback (most recent call last)",
      "\u001b[1;32m<ipython-input-5-cbab93ce6e2f>\u001b[0m in \u001b[0;36m<module>\u001b[1;34m\u001b[0m\n\u001b[0;32m      3\u001b[0m \u001b[1;32mwhile\u001b[0m\u001b[1;33m(\u001b[0m\u001b[1;32mTrue\u001b[0m\u001b[1;33m)\u001b[0m\u001b[1;33m:\u001b[0m\u001b[1;33m\u001b[0m\u001b[1;33m\u001b[0m\u001b[0m\n\u001b[0;32m      4\u001b[0m     \u001b[0mret\u001b[0m\u001b[1;33m,\u001b[0m \u001b[0mframe\u001b[0m \u001b[1;33m=\u001b[0m \u001b[0mcamera\u001b[0m\u001b[1;33m.\u001b[0m\u001b[0mread\u001b[0m\u001b[1;33m(\u001b[0m\u001b[1;33m)\u001b[0m             \u001b[1;31m# Capture frame by frame\u001b[0m\u001b[1;33m\u001b[0m\u001b[1;33m\u001b[0m\u001b[0m\n\u001b[1;32m----> 5\u001b[1;33m     \u001b[0mcv2\u001b[0m\u001b[1;33m.\u001b[0m\u001b[0mimshow\u001b[0m\u001b[1;33m(\u001b[0m\u001b[1;34m'Press Spacebar to Exit'\u001b[0m\u001b[1;33m,\u001b[0m\u001b[0mframe\u001b[0m\u001b[1;33m)\u001b[0m              \u001b[1;31m# Display the frame\u001b[0m\u001b[1;33m\u001b[0m\u001b[1;33m\u001b[0m\u001b[0m\n\u001b[0m\u001b[0;32m      6\u001b[0m \u001b[1;33m\u001b[0m\u001b[0m\n\u001b[0;32m      7\u001b[0m     \u001b[1;32mif\u001b[0m \u001b[0mcv2\u001b[0m\u001b[1;33m.\u001b[0m\u001b[0mwaitKey\u001b[0m\u001b[1;33m(\u001b[0m\u001b[1;36m1\u001b[0m\u001b[1;33m)\u001b[0m \u001b[1;33m&\u001b[0m \u001b[1;36m0xFF\u001b[0m \u001b[1;33m==\u001b[0m \u001b[0mord\u001b[0m\u001b[1;33m(\u001b[0m\u001b[1;34m' '\u001b[0m\u001b[1;33m)\u001b[0m\u001b[1;33m:\u001b[0m  \u001b[1;31m# Stop if spacebar is detected\u001b[0m\u001b[1;33m\u001b[0m\u001b[1;33m\u001b[0m\u001b[0m\n",
      "\u001b[1;31merror\u001b[0m: OpenCV(4.5.1) C:\\Users\\appveyor\\AppData\\Local\\Temp\\1\\pip-req-build-kh7iq4w7\\opencv\\modules\\highgui\\src\\window.cpp:376: error: (-215:Assertion failed) size.width>0 && size.height>0 in function 'cv::imshow'\n"
     ]
    }
   ],
   "source": [
    "camera = cv2.VideoCapture(1) #create a VideoCapture object with the 'first' camera (your webcam)\n",
    "\n",
    "while(True):\n",
    "    ret, frame = camera.read()             # Capture frame by frame   \n",
    "    cv2.imshow('Press Spacebar to Exit',frame)              # Display the frame\n",
    "    \n",
    "    if cv2.waitKey(1) & 0xFF == ord(' '):  # Stop if spacebar is detected\n",
    "        break\n",
    "\n",
    "camera.release()                           # Cleanup after spacebar is detected.\n",
    "cv2.destroyAllWindows()"
   ]
  },
  {
   "cell_type": "markdown",
   "metadata": {},
   "source": [
    "¡Felicidades! ¿se vió en la pantalla?"
   ]
  },
  {
   "cell_type": "markdown",
   "metadata": {},
   "source": [
    "### 1.2 Dándole sentido a lo que vemos\n",
    "\n",
    "Así que hemos logrado rápidamente la primera parte de ver. Ahora la computadora necesita darle sentido a lo que ve.\n",
    "\n",
    "¿Recuerda a Numpy? En OpenCV, las imágenes se almacenan como Numpy Arrays.\n",
    "\n",
    "Estas matrices tienen métodos incorporados que puede utilizar para analizar rápidamente su imagen. <br />\n",
    "Por ejemplo, **. Shape ** le indicaría las dimensiones de la matriz Numpy donde se almacena la imagen. (alto, ancho, canales) <br />\n",
    "También hay varias otras técnicas avanzadas de manipulación de matrices, pero lo mantendremos simple por ahora.\n",
    "\n",
    "De forma predeterminada, hay 3 canales para almacenar las intensidades de píxeles de Azul, Verde y Rojo. Este es el espacio de color predeterminado utilizado por OpenCV.\n",
    "\n",
    "Para la imagen que mostró arriba, ¿Cuáles son las dimensiones? ¿De qué color es en diferentes partes de la imagen? ¿Cómo se representan las intensidades de color?\n",
    "\n",
    "<img src = \"images_cv/image001.png\" alt = \"Drawing\" style = \"width: 400px; border: 1px solid; float: left;\" />\n",
    "<div style = \"clear: both;\"> </div>\n",
    "\n",
    "¡Intenta comprender la imagen por ti mismo a continuación!"
   ]
  },
  {
   "cell_type": "markdown",
   "metadata": {},
   "source": [
    "#### Cuáles son las dimensiones de la imagen?"
   ]
  },
  {
   "cell_type": "code",
   "execution_count": 6,
   "metadata": {},
   "outputs": [
    {
     "name": "stdout",
     "output_type": "stream",
     "text": [
      "(600, 800, 3)\n"
     ]
    }
   ],
   "source": [
    "print(img.shape) # ¿Cuáles son las dimensiones de esta imagen?\n",
    "                        # ¿Cuál es el ancho, cuál es la altura, cuántos canales hay?\n",
    "                        # Sugerencia: las imágenes se representan en matrices Numpy como (alto, ancho, canales)"
   ]
  },
  {
   "cell_type": "markdown",
   "metadata": {},
   "source": [
    "#### ¿Cuál es el color de la esquina superior izquierda de la imagen?"
   ]
  },
  {
   "cell_type": "code",
   "execution_count": 7,
   "metadata": {},
   "outputs": [
    {
     "name": "stdout",
     "output_type": "stream",
     "text": [
      "[  0 255   0]\n"
     ]
    }
   ],
   "source": [
    "print(img[0,0])          # ¿Cuál es el color de la esquina superior izquierda de la imagen? Tenga en cuenta que la indexación de matrices comienza desde 0\n",
    "                         # Sugerencia: los canales se representan como azul, verde, rojo por defecto"
   ]
  },
  {
   "cell_type": "markdown",
   "metadata": {},
   "source": [
    "### Tarea 2: averigüe el color de la esquina superior derecha de la imagen.\n",
    "¿Cuál es el color de la esquina superior derecha de la imagen?"
   ]
  },
  {
   "cell_type": "code",
   "execution_count": 8,
   "metadata": {},
   "outputs": [
    {
     "name": "stdout",
     "output_type": "stream",
     "text": [
      "[255   0   0]\n"
     ]
    }
   ],
   "source": [
    "print(img[0,799])        # ¿Cuál es el color de la esquina superior derecha de la imagen?\n",
    "                         # Sugerencia: Observe que el píxel más a la derecha es 799, no 800. La indexación de matrices numerosas comienza desde 0."
   ]
  },
  {
   "cell_type": "markdown",
   "metadata": {},
   "source": [
    "### Tarea 3: Descubra el color del medio de la imagen.\n",
    "¿Cuál es el color en el medio de la imagen?"
   ]
  },
  {
   "cell_type": "code",
   "execution_count": 9,
   "metadata": {},
   "outputs": [
    {
     "name": "stdout",
     "output_type": "stream",
     "text": [
      "[  0   0 255]\n"
     ]
    }
   ],
   "source": [
    "print(img[300,400])      # ¿Cuál es el color en el medio de la imagen?"
   ]
  },
  {
   "cell_type": "markdown",
   "metadata": {},
   "source": [
    "¿Cree que la computadora entiende que hay cuadrados y círculos en la imagen en esta etapa? <br />\n",
    "¿O solo es consciente de que hay filas y filas de intensidades de píxeles que parecen tener valores de 0 a 255?\n",
    "\n",
    "Sí, por cierto, las intensidades de píxeles de 0 a 255 son básicamente la cantidad de un color en particular presente. <br />\n",
    "0 significa que la intensidad es 0 (básicamente oscura), mientras que 255 significa que está llena de ese color.\n",
    "\n",
    "Entonces, (0,0,0) sería negro y (255,255,255) sería blanco. ¿Cómo representaría el azul, el verde o el rojo?"
   ]
  },
  {
   "cell_type": "markdown",
   "metadata": {},
   "source": [
    "## 2. Procesamiento de imágenes\n",
    "\n",
    "Hemos descubierto que una computadora ve las imágenes como matrices de intensidades de píxeles, <br />\n",
    "y depende del desarrollador de visión por computadora (usted) darle sentido a esa imagen.\n",
    "\n",
    "Analicemos algunas de las técnicas de procesamiento de imágenes más comunes que pueden resultarle útiles. <br />\n",
    "Para un descubrimiento más detallado, se proporcionarán algunos enlaces al final para que pueda profundizar aún más.\n",
    "\n",
    "Oh, espere, antes de eso, ¿puede pensar en algunos ejemplos de cómo se usa la visión por computadora en el mundo real hoy en día? Lo discutirán en clase más tarde, por lo que es posible que desee tomar algunas notas como piensa."
   ]
  },
  {
   "cell_type": "markdown",
   "metadata": {},
   "source": [
    "### 2.1 Espacios de color / organización de colores\n",
    "\n",
    "Hemos estado usando el espacio de color azul, verde y rojo en las imágenes anteriormente.\n",
    "\n",
    "¿Y si no necesitáramos todos los colores y solo necesitáramos saber qué tan clara u oscura es una imagen? Podemos convertir la foto a escala de grises.\n",
    "\n",
    "¿Recuerda cómo se representan las imágenes en escala de grises en Numpy?"
   ]
  },
  {
   "cell_type": "code",
   "execution_count": 10,
   "metadata": {},
   "outputs": [],
   "source": [
    "img = cv2.imread(\"images_cv/image001.png\")\n",
    "grey = cv2.cvtColor(img, cv2.COLOR_BGR2GRAY) #Convert color from BGR to grayscale\n",
    "cv2.imshow(\"Grey\",grey)\n",
    "\n",
    "cv2.waitKey(0)                            # Cleanup after any key is pressed\n",
    "cv2.destroyAllWindows()"
   ]
  },
  {
   "cell_type": "markdown",
   "metadata": {},
   "source": [
    "### Tarea 4: Ahora muestre la imagen en escala de grises en este cuaderno.\n",
    "Utilice una nueva variable (no img)."
   ]
  },
  {
   "cell_type": "code",
   "execution_count": 11,
   "metadata": {},
   "outputs": [
    {
     "data": {
      "image/png": "[encoded data removed]",
      "text/plain": [
       "<Figure size 432x288 with 1 Axes>"
      ]
     },
     "metadata": {
      "needs_background": "light"
     },
     "output_type": "display_data"
    }
   ],
   "source": [
    "img_1 = cv2.imread('images_cv/image001.png',0) # the number zero opens the image as a grayscale image\n",
    "plt.imshow(img_1, cmap = 'gray', interpolation = 'bicubic')\n",
    "plt.title('grayscale')\n",
    "plt.axis('off')\n",
    "plt.show()"
   ]
  },
  {
   "cell_type": "markdown",
   "metadata": {},
   "source": [
    "### Tarea 5: mostrar la forma de matriz en escala de grises.\n",
    "¿Qué número esperas ver?"
   ]
  },
  {
   "cell_type": "code",
   "execution_count": 12,
   "metadata": {
    "scrolled": true
   },
   "outputs": [
    {
     "name": "stdout",
     "output_type": "stream",
     "text": [
      "(600, 800)\n"
     ]
    }
   ],
   "source": [
    "print(grey.shape)                         # ¿Estas dimensiones son diferentes de la img.shape anterior?"
   ]
  },
  {
   "cell_type": "markdown",
   "metadata": {},
   "source": [
    "¿Se está utilizando menos memoria para almacenar la imagen ahora que todo está en escala de grises? <br />\n",
    "¿Significa esto que el procesamiento de esta imagen sería potencialmente más rápido ya que tiene 1/3 del tamaño de la matriz original?"
   ]
  },
  {
   "cell_type": "markdown",
   "metadata": {},
   "source": [
    "### Tarea 6: Encuentra el color de la esquina superior izquierda de la imagen.\n",
    "¿Cuál es el color de la esquina superior izquierda de la imagen?"
   ]
  },
  {
   "cell_type": "code",
   "execution_count": 13,
   "metadata": {},
   "outputs": [
    {
     "name": "stdout",
     "output_type": "stream",
     "text": [
      "150\n"
     ]
    }
   ],
   "source": [
    "print(grey[0,0])          # ¿Cuál es el color de la esquina superior izquierda de la imagen? Tenga en cuenta que la indexación de matrices comienza desde 0\n",
    "                          # ¿Cómo se compara esto con su hallazgo anterior anterior?"
   ]
  },
  {
   "cell_type": "markdown",
   "metadata": {},
   "source": [
    "### Tarea 7: averigua el color de la esquina superior derecha de la imagen.\n",
    "¿Cuál es el color de la esquina superior derecha de la imagen?"
   ]
  },
  {
   "cell_type": "code",
   "execution_count": 14,
   "metadata": {},
   "outputs": [
    {
     "name": "stdout",
     "output_type": "stream",
     "text": [
      "29\n"
     ]
    }
   ],
   "source": [
    "print(grey[0,799])       # ¿Cuál es el color de la esquina superior derecha de la imagen?\n",
    "                         # ¿Cómo se compara esto con su hallazgo anterior anterior?"
   ]
  },
  {
   "cell_type": "markdown",
   "metadata": {},
   "source": [
    "Dato curioso: ¿Algunos colores parecen más oscuros que otros cuando se convierten a escala de grises?\n",
    "Puede leer más sobre los diferentes espacios de color en https://docs.opencv.org/4.0.0/de/d25/imgproc_color_conversions.html\n",
    "\n",
    "No profundizaremos demasiado en los otros espacios de color, pero si está interesado, lea el enlace de arriba. Y cuando tenga más preguntas, puede usar Internet para ayudarlo."
   ]
  },
  {
   "cell_type": "markdown",
   "metadata": {},
   "source": [
    "### 2.2 Umbral, enmascaramiento y región de interés\n",
    "Anteriormente, vimos cómo algunos colores eran más oscuros que otros. ¿Y si solo estuviéramos interesados en una parte de la imagen que fuera muy oscura o muy clara? ¿Podríamos filtrar solo el cuadrado en la parte superior derecha de la pantalla?\n",
    "\n",
    "** Técnica 1: Intensidad de escala de grises **"
   ]
  },
  {
   "cell_type": "code",
   "execution_count": 15,
   "metadata": {},
   "outputs": [],
   "source": [
    "# Recuerde que el cuadrado de la parte superior derecha tenía una intensidad de píxeles de 29\n",
    "# Ahora todo lo que tenga un valor superior a 29 se convertirá en 255 (blanco)\n",
    "# Esto significa que estamos estableciendo un valor umbral de 29\n",
    "\n",
    "ret,thresholded = cv2.threshold(grey,29,255,cv2.THRESH_BINARY)  \n",
    "cv2.imshow(\"Thresholded\",thresholded)\n",
    "\n",
    "cv2.waitKey(0)                            # Cleanup after any key is pressed\n",
    "cv2.destroyAllWindows()"
   ]
  },
  {
   "cell_type": "markdown",
   "metadata": {},
   "source": [
    "El cuadrado que queremos aparece en negro, mientras que las otras partes de la imagen aparecen en blanco. Ahora podemos centrarnos en esta área para futuros procesos.\n",
    "\n",
    "El área en la que queremos enfocarnos generalmente se llama Región de interés (ROI)\n",
    "\n",
    "### Tarea 8: ¿Qué pasa si quieres que se capture el texto, el círculo y el medio y el cuadro de la derecha (marcado en negro)?"
   ]
  },
  {
   "cell_type": "code",
   "execution_count": 16,
   "metadata": {},
   "outputs": [],
   "source": [
    "ret,thresholded = cv2.threshold(grey,100,255,cv2.THRESH_BINARY)  \n",
    "cv2.imshow(\"Thresholded\",thresholded)\n",
    "\n",
    "cv2.waitKey(0)                            # Cleanup after any key is pressed\n",
    "cv2.destroyAllWindows()"
   ]
  },
  {
   "cell_type": "markdown",
   "metadata": {},
   "source": [
    "Sigamos trabajando con el valor umbral de 29.\n",
    "Por lo general, nos gustaría que las regiones de interés (ROI) fueran blancas y las otras áreas negras. Intentemos:"
   ]
  },
  {
   "cell_type": "code",
   "execution_count": 17,
   "metadata": {},
   "outputs": [],
   "source": [
    "ret,thresholded = cv2.threshold(grey,29,255,cv2.THRESH_BINARY_INV)    #we use cv2.THRESH_BINARY_INV instead of cv2.THRESH_BINARY\n",
    "cv2.imshow(\"Thresholded\",thresholded)\n",
    "\n",
    "cv2.waitKey(0)                            # Cleanup after any key is pressed\n",
    "cv2.destroyAllWindows()"
   ]
  },
  {
   "cell_type": "markdown",
   "metadata": {},
   "source": [
    "### Tarea 9: ¿Qué pasa si quieres que el texto, el círculo y el centro y el cuadro de la derecha sean el ROI (marcado en blanco)?"
   ]
  },
  {
   "cell_type": "code",
   "execution_count": 18,
   "metadata": {},
   "outputs": [],
   "source": [
    "ret,thresholded = cv2.threshold(grey,100,255,cv2.THRESH_BINARY_INV)  \n",
    "cv2.imshow(\"Thresholded\",thresholded)\n",
    "\n",
    "cv2.waitKey(0)                            # Cleanup after any key is pressed\n",
    "cv2.destroyAllWindows()"
   ]
  },
  {
   "cell_type": "markdown",
   "metadata": {},
   "source": [
    "¿Para qué sirve esto?\n",
    "\n",
    "Bueno, establecer el umbral de la Región de interés (ROI) puede permitirnos usarla como una máscara para mostrar en la imagen original.\n",
    "\n",
    "### ¿Máscara?\n",
    "** Pero, ¿qué es una máscara? **\n",
    "\n",
    "Echemos un vistazo a la siguiente ilustración:\n",
    "\n",
    "<img src = \"images_cv/image001_masking.jpg\" />\n",
    "\n",
    "En la imagen (en el medio) de arriba, puede ver la máscara del cuadrado azul en la esquina superior derecha. Cuando aplicamos esa máscara (imagen en el medio) a la imagen original (imagen a la izquierda), solo queda el cuadrado azul en la imagen enmascarada (imagen a la derecha).\n",
    "\n",
    "La capa de máscara ayuda a resaltar las partes de la imagen que nos interesan. Cuando se aplica la máscara a la imagen, solo se conservan las partes que nos interesan (regiones blancas de la máscara), mientras que las partes restantes (negro regiones) de la imagen se descartan.\n",
    "\n",
    "Dato curioso: también puede ver este concepto en funcionamiento en softwares de edición de imágenes populares como Adobe Photoshop, donde puede aplicar \"máscaras de recorte\"."
   ]
  },
  {
   "cell_type": "code",
   "execution_count": 19,
   "metadata": {},
   "outputs": [],
   "source": [
    "ret,thresholded = cv2.threshold(grey,29,255,cv2.THRESH_BINARY_INV)  \n",
    "\n",
    "masked = cv2.bitwise_and(img, img, mask = thresholded) \n",
    "cv2.imshow(\"Masked\", masked)\n",
    "\n",
    "cv2.waitKey(0)                            # Cleanup after any key is pressed\n",
    "cv2.destroyAllWindows()"
   ]
  },
  {
   "cell_type": "markdown",
   "metadata": {},
   "source": [
    "¡Genial! ¿Consiguió filtrar el cuadrado azul?\n",
    "\n",
    "Bien, es hora de que experimente y vea qué más te gustaría establecer. ¿Puedes poner el umbral solo en el Círculo en el medio? ¿Cómo harías eso en una capa de escala de grises?\n",
    "\n",
    "Quizás la capa gris no sea la mejor capa para trabajar. Recuerda que tienes la imagen original:\n",
    "\n",
    "<img src = \"images_cv/image001.png\" alt = \"Drawing\" style = \"width: 400px; border: 1px solid; float: left;\" />\n",
    "<div style = \"clear: both;\"> </div>"
   ]
  },
  {
   "cell_type": "markdown",
   "metadata": {},
   "source": [
    "** Técnica 2: Colores. ** <br />\n",
    "¿Recuerde que las imágenes son matrices numerosas? Y las matrices Numpy se pueden filtrar fácilmente con filtros avanzados.\n",
    "\n",
    "Para hacernos la vida más fácil, es posible que deseemos cambiar el blanco del fondo a negro."
   ]
  },
  {
   "cell_type": "code",
   "execution_count": 20,
   "metadata": {},
   "outputs": [],
   "source": [
    "mask = img.copy()                         \n",
    "(b,g,r) = cv2.split(img)                  \n",
    "mask[(b==255)&(g==255)&(r==255)] = 0      # Se cambia el fondo blanco (cuando todos los valores RGB son 255) a negto (0).\n",
    "\n",
    "cv2.imshow(\"Mask\",mask)\n",
    "\n",
    "cv2.waitKey(0)                            \n",
    "cv2.destroyAllWindows()"
   ]
  },
  {
   "cell_type": "markdown",
   "metadata": {},
   "source": [
    "Exploremos cómo se ven las diferentes capas de la máscara. Son las capas 0, 1 y 2 respectivamente:"
   ]
  },
  {
   "cell_type": "code",
   "execution_count": 21,
   "metadata": {},
   "outputs": [],
   "source": [
    "cv2.imshow(\"Blue Mask\",mask[:,:,0])       # Notice how the words are blue also\n",
    "cv2.waitKey(0)                            # Cleanup after any key is pressed\n",
    "cv2.destroyAllWindows()"
   ]
  },
  {
   "cell_type": "code",
   "execution_count": 22,
   "metadata": {},
   "outputs": [],
   "source": [
    "cv2.imshow(\"Green Mask\",mask[:,:,1])\n",
    "cv2.waitKey(0)                            # Cleanup after any key is pressed\n",
    "cv2.destroyAllWindows()"
   ]
  },
  {
   "cell_type": "code",
   "execution_count": 23,
   "metadata": {},
   "outputs": [],
   "source": [
    "cv2.imshow(\"Red Mask\",mask[:,:,2])\n",
    "cv2.waitKey(0)                            # Cleanup after any key is pressed\n",
    "cv2.destroyAllWindows()"
   ]
  },
  {
   "cell_type": "markdown",
   "metadata": {},
   "source": [
    "** Técnica 3: manipulación rápida de matrices Numpy según la posición **\n",
    "\n",
    "Hay algunos artefactos alrededor de las palabras de esta capa verde. ¿Podemos limpiarlo?"
   ]
  },
  {
   "cell_type": "code",
   "execution_count": 24,
   "metadata": {},
   "outputs": [],
   "source": [
    "mask[300:,:,1]=0                          # Remember that the image is a matrix. Let's wipe the bottom half to black (0)\n",
    "cv2.imshow(\"Green Mask\",mask[:,:,1])\n",
    "cv2.waitKey(0)                            # Cleanup after any key is pressed\n",
    "cv2.destroyAllWindows()"
   ]
  },
  {
   "cell_type": "markdown",
   "metadata": {},
   "source": [
    "Si no recuerda el tamaño de su imagen, ¿qué comando puede usar para averiguarlo?"
   ]
  },
  {
   "cell_type": "code",
   "execution_count": 25,
   "metadata": {},
   "outputs": [
    {
     "data": {
      "text/plain": [
       "(600, 800, 3)"
      ]
     },
     "execution_count": 25,
     "metadata": {},
     "output_type": "execute_result"
    }
   ],
   "source": [
    "mask.shape"
   ]
  },
  {
   "cell_type": "markdown",
   "metadata": {},
   "source": [
    "Ahora veamos si hay artefactos alrededor de las palabras de la capa roja."
   ]
  },
  {
   "cell_type": "code",
   "execution_count": 26,
   "metadata": {},
   "outputs": [],
   "source": [
    "cv2.imshow(\"Red Mask\",mask[:,:,2])\n",
    "cv2.waitKey(0)                            # Cleanup after any key is pressed\n",
    "cv2.destroyAllWindows()"
   ]
  },
  {
   "cell_type": "markdown",
   "metadata": {},
   "source": [
    "También hay algunos artefactos alrededor de las palabras para esta capa roja. ¿Podemos limpiarlo?\n",
    "\n",
    "### Tarea 10: Limpiaalrededor de las palabras para esta máscara roja."
   ]
  },
  {
   "cell_type": "code",
   "execution_count": 27,
   "metadata": {},
   "outputs": [],
   "source": [
    "mask[410:,:,2]=0\n",
    "cv2.imshow(\"Red Mask\",mask[:,:,2])\n",
    "cv2.waitKey(0)                            # Cleanup after any key is pressed\n",
    "cv2.destroyAllWindows()"
   ]
  },
  {
   "cell_type": "markdown",
   "metadata": {},
   "source": [
    "Ahora podemos simplemente obtener los objetos según el color."
   ]
  },
  {
   "cell_type": "code",
   "execution_count": 28,
   "metadata": {},
   "outputs": [],
   "source": [
    "#layer 2 is the red layer. Rememeber (B,G,R)\n",
    "masked = cv2.bitwise_and(img,img,mask=mask[:,:,2])\n",
    "cv2.imshow(\"Circle\",masked)                   \n",
    "\n",
    "cv2.waitKey(0)                            # Cleanup after any key is pressed\n",
    "cv2.destroyAllWindows()"
   ]
  },
  {
   "cell_type": "code",
   "execution_count": 29,
   "metadata": {},
   "outputs": [],
   "source": [
    "#layer 1 is the green layer. Rememeber (B,G,R)\n",
    "masked = cv2.bitwise_and(img,img,mask=mask[:,:,1])\n",
    "cv2.imshow(\"Left Green Rectangle\",masked)\n",
    "cv2.waitKey(0)                            # Cleanup after any key is pressed\n",
    "cv2.destroyAllWindows()"
   ]
  },
  {
   "cell_type": "code",
   "execution_count": 30,
   "metadata": {},
   "outputs": [],
   "source": [
    "#layer 0 is the blue layer. Rememeber (B,G,R)\n",
    "masked = cv2.bitwise_and(img,img,mask=mask[:,:,0])\n",
    "cv2.imshow(\"Right Blue Rectangle\",masked)\n",
    "cv2.waitKey(0)                            # Cleanup after any key is pressed\n",
    "cv2.destroyAllWindows()"
   ]
  },
  {
   "cell_type": "markdown",
   "metadata": {},
   "source": [
    "¿Observa que las palabras también aparecen no solo en el rectángulo? Esto se debe a que las palabras también son _¡azules! _\n",
    "\n",
    "Si no desea que aparezcan las palabras, puede \"borrarlas\":\n",
    "\n",
    "### Tarea 11: ¡Borre las palabras!"
   ]
  },
  {
   "cell_type": "code",
   "execution_count": 31,
   "metadata": {},
   "outputs": [],
   "source": [
    "mask[300:,:,0]=0                          # Remember that the image is a matrix. Let's wipe the bottom half to black (0)\n",
    "masked = cv2.bitwise_and(img,img,mask=mask[:,:,0])\n",
    "cv2.imshow(\"Right Blue Rectangle\",masked)\n",
    "cv2.waitKey(0)                            # Cleanup after any key is pressed\n",
    "cv2.destroyAllWindows()"
   ]
  },
  {
   "cell_type": "markdown",
   "metadata": {},
   "source": [
    "Hemos dedicado bastante tiempo a enmascarar, establecer umbrales y regiones de interés. Hay diferentes enfoques que puede utilizar, ya sea por color o por intensidad de píxel, o manipulando Numpy Array (por ejemplo, para acceder y modificar partes de la imagen). Tómese su tiempo para practicar estas técnicas y pruébelas con diferentes imágenes.\n",
    "\n",
    "En la visión por computadora, y en la vida, a menudo hay varias formas de alcanzar el mismo objetivo. ¿Puede pensar en formas más eficientes de obtener su Región de interés?"
   ]
  },
  {
   "cell_type": "markdown",
   "metadata": {},
   "source": [
    "### 2.3 Transformaciones geométricas. Cambiar el tamaño y recortar\n",
    "\n",
    "Continuando, tal vez la imagen sea demasiado grande o demasiado pequeña, ¿cómo podríamos cambiar su tamaño?\n",
    "\n",
    "### Tarea 12: Convertir la imagen de 800x600 en una imagen de 400x300"
   ]
  },
  {
   "cell_type": "code",
   "execution_count": 32,
   "metadata": {},
   "outputs": [],
   "source": [
    "img = cv2.imread(\"images_cv/image001.png\")   \n",
    "resized = cv2.resize(img, (400, 300))\n",
    "cv2.imshow(\"Resized\",resized)\n",
    "cv2.waitKey(0)                            \n",
    "cv2.destroyAllWindows()"
   ]
  },
  {
   "cell_type": "markdown",
   "metadata": {},
   "source": [
    "¿Qué forma tiene ahora?"
   ]
  },
  {
   "cell_type": "code",
   "execution_count": 33,
   "metadata": {},
   "outputs": [
    {
     "name": "stdout",
     "output_type": "stream",
     "text": [
      "(300, 400, 3)\n"
     ]
    }
   ],
   "source": [
    "print(resized.shape)"
   ]
  },
  {
   "cell_type": "markdown",
   "metadata": {},
   "source": [
    "Tenga en cuenta que la función de cambio de tamaño también se puede utilizar para estirar la imagen, si utiliza una relación de aspecto diferente.\n",
    "\n",
    "### Tarea 13: Estire la imagen de 800x600 a una imagen de 200x300"
   ]
  },
  {
   "cell_type": "code",
   "execution_count": 34,
   "metadata": {},
   "outputs": [],
   "source": [
    "\n",
    "resized = cv2.resize(img, (200, 300))          \n",
    "cv2.imshow(\"Resized\",resized)\n",
    "cv2.waitKey(0)                            \n",
    "cv2.destroyAllWindows()"
   ]
  },
  {
   "cell_type": "markdown",
   "metadata": {},
   "source": [
    "### Recorte\n",
    "\n",
    "Recorta para obtener la mitad superior de la imagen:"
   ]
  },
  {
   "cell_type": "code",
   "execution_count": 35,
   "metadata": {},
   "outputs": [],
   "source": [
    "cv2.imshow(\"Cropped Top\",img[:300,:,:])\n",
    "cv2.waitKey(0)                            # Cleanup after any key is pressed\n",
    "cv2.destroyAllWindows()"
   ]
  },
  {
   "cell_type": "markdown",
   "metadata": {},
   "source": [
    "### Tarea: Recorta para obtener el lado derecho de la imagen."
   ]
  },
  {
   "cell_type": "code",
   "execution_count": 36,
   "metadata": {},
   "outputs": [],
   "source": [
    "cv2.imshow(\"Cropped Right\",img[:,399:799,:])\n",
    "cv2.waitKey(0)                            \n",
    "cv2.destroyAllWindows()"
   ]
  },
  {
   "cell_type": "markdown",
   "metadata": {},
   "source": [
    "Puedes jugar con él. Recortar a una región de interés sería más útil. Pasemos a otro método muy útil para extraer una región de interés (ROI)"
   ]
  },
  {
   "cell_type": "markdown",
   "metadata": {},
   "source": [
    "### 2.4 Detección de contorno\n",
    "\n",
    "Esto es lo que se usa comúnmente para buscar regiones de interés, generalmente usando una máscara de umbral.\n",
    "\n",
    "** Pero, ¿qué es un contorno? **\n",
    "\n",
    "Puede pensar en los contornos como una [curva dibujada a lo largo de un límite] (https://docs.opencv.org/3.4/d4/d73/tutorial_py_contours_begin.html).\n",
    "\n",
    "Para simplificar esto, piense en todas las máscaras en blanco y negro. Habrá límites, cambios bruscos de color. Contours es una curva dibujada a lo largo de este límite.\n",
    "\n",
    "La detección de contornos básicamente encuentra y devuelve estos diferentes grupos como contornos.\n",
    "\n",
    "Para ilustrar, ¿cuántas regiones de color blanco crees que hay en la imagen de abajo?\n",
    "\n",
    "<img src = \"images_cv/image001_3contours.png\" style = \"width: 400px; float: left;\" />\n",
    "<div style = \"clear: both;\"> </div>\n",
    "\n",
    "¿Adivinó que se han detectado 3 contornos? Intentemos cargar esa imagen y dibujar los contornos del contorno."
   ]
  },
  {
   "cell_type": "code",
   "execution_count": 37,
   "metadata": {},
   "outputs": [
    {
     "name": "stdout",
     "output_type": "stream",
     "text": [
      "There are 3 contours!\n"
     ]
    }
   ],
   "source": [
    "greytest = cv2.imread(\"images_cv/image001_3contours.png\",0)    # Load that image\n",
    "contouroutlines = np.zeros(greytest.shape,dtype=\"uint8\")    # Create a blank canvas for drawing detected contours\n",
    "\n",
    "# Let's find the contours! https://docs.opencv.org/3.4/d3/dc0/group__imgproc__shape.html#ga17ed9f5d79ae97bd4c7cf18403e1689a\n",
    "(cnts,_) = cv2.findContours(greytest, cv2.RETR_EXTERNAL, cv2.CHAIN_APPROX_SIMPLE)\n",
    "\n",
    "for (i, c) in enumerate(cnts):    \n",
    "    cv2.drawContours(contouroutlines, [c], -1, 255, 1)  # For each contour, draw just the outline of the contours\n",
    "                                                        # https://docs.opencv.org/3.4/d6/d6e/group__imgproc__draw.html#ga746c0625f1781f1ffc9056259103edbc\n",
    "cv2.imshow(\"Contour Outlines\",contouroutlines)          # Display the results\n",
    "cv2.waitKey(0)                                          # Cleanup after any key is pressed\n",
    "cv2.destroyAllWindows()\n",
    "\n",
    "print(\"There are \"+str(len(cnts))+\" contours!\")         # Print out the number of contours detected"
   ]
  },
  {
   "cell_type": "markdown",
   "metadata": {},
   "source": [
    "Ese fue un ejemplo simple con solo 3 contornos.\n",
    "\n",
    "¿Cuántos contornos esperaría encontrar en nuestra imagen original con umbral?\n",
    "\n",
    "<img src=\"images_cv/image001_allcontours.png\" style=\"width:400px; float:left;\" />\n",
    "<div style=\"clear:both;\"></div>\n"
   ]
  },
  {
   "cell_type": "markdown",
   "metadata": {},
   "source": [
    "Primero crearemos la imagen usando el método de umbral."
   ]
  },
  {
   "cell_type": "code",
   "execution_count": 38,
   "metadata": {},
   "outputs": [],
   "source": [
    "grey = cv2.cvtColor(img, cv2.COLOR_BGR2GRAY)\n",
    "\n",
    "#We apply a threshold\n",
    "(T, thresholded) = cv2.threshold(grey, 0, 255, cv2.THRESH_BINARY_INV | cv2.THRESH_OTSU)\n",
    "cv2.imshow(\"Thresholded\",thresholded)\n",
    "\n",
    "cv2.waitKey(0)                            # Cleanup after any key is pressed\n",
    "cv2.destroyAllWindows()"
   ]
  },
  {
   "cell_type": "markdown",
   "metadata": {},
   "source": [
    "Ahora averiguaremos el contorno. ¿Cuántos cree que serán? ¡Mire la foto con cuidado!"
   ]
  },
  {
   "cell_type": "code",
   "execution_count": 39,
   "metadata": {},
   "outputs": [
    {
     "name": "stdout",
     "output_type": "stream",
     "text": [
      "Hay 78 contornos!\n"
     ]
    }
   ],
   "source": [
    "# Let's find the contours!\n",
    "(cnts,_) = cv2.findContours(thresholded, cv2.RETR_EXTERNAL, cv2.CHAIN_APPROX_SIMPLE)\n",
    "\n",
    "mask = np.zeros(img.shape,dtype=\"uint8\")  # Create a canvas for drawing detected contours\n",
    "for (i, c) in enumerate(cnts):    \n",
    "    cv2.drawContours(mask, [c], -1, (0,255,0), 1) \n",
    "    \n",
    "cv2.imshow(\"Mask\",mask)  \n",
    "cv2.waitKey(0)                            # Cleanup after any key is pressed\n",
    "cv2.destroyAllWindows()\n",
    "\n",
    "\n",
    "print(\"Hay \"+str(len(cnts))+\" contornos!\")"
   ]
  },
  {
   "cell_type": "markdown",
   "metadata": {},
   "source": [
    "¿Por qué hay 78 contornos? Eso es por el texto.\n",
    "\n",
    "Intentemos etiquetar los contornos para visualizar lo que realmente se está contando.\n",
    "\n",
    "A continuación, verá cómo cada letra tiende a formar 1 contorno. Pero observe cómo algunas letras como \"i\" en realidad se cuentan como 2 contornos, ya que la parte superior de la \"i\" y la parte inferior de la \"i\" no están conectadas. Lo mismo ocurre con el signo de exclamación.\n",
    "\n",
    "El código siguiente parece un poco más largo porque se ha agregado código para las anotaciones. Comprenderá mejor el código cuando visite la sección 2.5 un poco más adelante. Mientras tanto, no se preocupe por el código. Simplemente ejecute el código y vea cómo se cuentan los contornos. Tome nota de los cuadros delimitadores rojos que se han dibujado alrededor de cada \"contorno\"."
   ]
  },
  {
   "cell_type": "code",
   "execution_count": 40,
   "metadata": {},
   "outputs": [
    {
     "name": "stdout",
     "output_type": "stream",
     "text": [
      "Hay 78 contornos!\n"
     ]
    }
   ],
   "source": [
    "grey = cv2.cvtColor(img, cv2.COLOR_BGR2GRAY)\n",
    "\n",
    "#We apply a threshold\n",
    "(T, thresholded) = cv2.threshold(grey, 0, 255, cv2.THRESH_BINARY_INV | cv2.THRESH_OTSU)\n",
    "cv2.imshow(\"Thresholded\",thresholded)\n",
    "\n",
    "# Let's find the contours!\n",
    "(cnts,_) = cv2.findContours(thresholded, cv2.RETR_EXTERNAL, cv2.CHAIN_APPROX_SIMPLE)\n",
    "cnts = sorted(cnts, key=lambda cnts: cv2.boundingRect(cnts)[1])  #sort contours from top to bottom.\n",
    "\n",
    "mask = cv2.merge([thresholded,thresholded,thresholded])  # Create a canvas for drawing detected contours\n",
    "for (i, c) in enumerate(cnts):   #https://docs.opencv.org/3.1.0/dd/d49/tutorial_py_contour_features.html  \n",
    "    #cv2.drawContours(mask, [c], -1, (255,255,255), -1) \n",
    "    (x, y, w, h) = cv2.boundingRect(c)                   # Get the x,y coordinates of the contour's bounding box \n",
    "    cv2.rectangle(mask, (x,y), (x+w,y+h), (0,0,255))     # Draw the bounding boxes in red\n",
    "\n",
    "    cv2.putText(mask, \"\"+str(i+1), (x,y+28), cv2.FONT_HERSHEY_SIMPLEX, 0.25, (0,255,0), 1)\n",
    "    \n",
    "cv2.imshow(\"Mask\",mask)  \n",
    "cv2.waitKey(0)                            # Cleanup after any key is pressed\n",
    "cv2.destroyAllWindows()\n",
    "\n",
    "\n",
    "print(\"Hay \"+str(len(cnts))+\" contornos!\")"
   ]
  },
  {
   "cell_type": "markdown",
   "metadata": {},
   "source": [
    "¿Quiere saber más sobre los contornos? Puede visitar https://docs.opencv.org/3.3.1/d4/d73/tutorial_py_contours_begin.html para profundizar más. Como siempre, continúe buscando en Internet porque hay un tesoro escondido de información, ¡y será muy útil a medida que profundice!\n",
    "\n",
    "Consejo: En los ejemplos anteriores, usamos cv2.RETR_EXTERNAL para obtener los contornos externos. También hay otras opciones que puede especificar para obtener diferentes tipos de contornos. Por ejemplo, cv2.RETR_LIST enumerará todos los contornos y no solo los externos."
   ]
  },
  {
   "cell_type": "markdown",
   "metadata": {},
   "source": [
    "** Uso de contornos como máscaras de imagen **\n",
    "\n",
    "¿Recuerdas que hablamos de máscaras de imágenes antes? ¡Los contornos también se pueden usar para crear máscaras!\n",
    "\n",
    "Establezca el último parámetro de la función drawContour en -1 para crear un relleno (en lugar de un contorno) y utilícelo como máscara."
   ]
  },
  {
   "cell_type": "code",
   "execution_count": 41,
   "metadata": {},
   "outputs": [
    {
     "name": "stdout",
     "output_type": "stream",
     "text": [
      "There are 3 contours!\n"
     ]
    }
   ],
   "source": [
    "(T, thresholded) = cv2.threshold(grey, 0, 255, cv2.THRESH_BINARY_INV | cv2.THRESH_OTSU)\n",
    "thresholded[410:,:]=0                     # Shortcut to remove the text since it is on the bottom half of the image!\n",
    "#cv2.imshow(\"Thresholded\",thresholded)\n",
    "\n",
    "#How many contours do you think there are?\n",
    "(cnts,_) = cv2.findContours(thresholded, cv2.RETR_EXTERNAL, cv2.CHAIN_APPROX_SIMPLE)\n",
    "\n",
    "mask = np.zeros(thresholded.shape,dtype=\"uint8\")\n",
    "for (i, c) in enumerate(cnts):    \n",
    "    cv2.drawContours(mask, [c], -1, 255, -1)  #the last parameter defines the outline thickness. -1 will fill the contour\n",
    "    \n",
    "cv2.imshow(\"Mask\",mask)\n",
    "cv2.imshow(\"Masked Image\",cv2.bitwise_and(img,img,mask=mask))  \n",
    "cv2.waitKey(0)                            # Cleanup after any key is pressed\n",
    "cv2.destroyAllWindows()\n",
    "\n",
    "\n",
    "print(\"There are \"+str(len(cnts))+\" contours!\")"
   ]
  },
  {
   "cell_type": "markdown",
   "metadata": {},
   "source": [
    "¿Le resultó más fácil que ajustar manualmente el umbral de cada color?"
   ]
  },
  {
   "cell_type": "markdown",
   "metadata": {},
   "source": [
    "### 2.5 Dibujar líneas y escribir textos\n",
    "\n",
    "De hecho, hicimos un poco de esto en el ejercicio de contorno anterior, usando un método llamado drawContour. Veamos cómo podemos agregar líneas y palabras a las imágenes, ya que es posible que queramos anotar nuestras imágenes. ¡Revisemos el ejemplo en 2.4 y agreguemos etiquetas a nuestros contornos!\n",
    "\n",
    "Solo las 3 líneas que han cambiado se comentan a continuación. Las otras líneas de código son similares al ejemplo en 2.4 y puede consultar ese ejemplo para recapitular lo que hacen esas líneas de código.\n",
    "\n",
    "Primero, obtenemos el cuadro delimitador para cada contorno, dibujamos un rectángulo a su alrededor y luego agregamos el texto para etiquetar cada contorno."
   ]
  },
  {
   "cell_type": "code",
   "execution_count": 42,
   "metadata": {},
   "outputs": [
    {
     "name": "stdout",
     "output_type": "stream",
     "text": [
      "There are 3 contours!\n"
     ]
    }
   ],
   "source": [
    "greytest = cv2.imread(\"images_cv/image001_3contours.png\",0)\n",
    "contouroutlines = np.zeros(greytest.shape,dtype=\"uint8\")\n",
    "\n",
    "(cnts,_) = cv2.findContours(greytest, cv2.RETR_EXTERNAL, cv2.CHAIN_APPROX_SIMPLE)\n",
    "\n",
    "for (i, c) in enumerate(cnts):    \n",
    "    cv2.drawContours(contouroutlines, [c], -1, 255, 1)\n",
    "\n",
    "    # GET BOUNDING BOX OF EACH CONTOUR\n",
    "    (x, y, w, h) = cv2.boundingRect(c)\n",
    "    \n",
    "    # DRAW A RECTANGLE AROUND EACH CONTOUR (I.E. DRAW THE BOUNDING BOX)\n",
    "    cv2.rectangle(contouroutlines, (x, y), (x+w, y+h), (255,255,0), 2) \n",
    "    \n",
    "    # ADD THE TEXT \"COUNTOUR <>\" TO EACH CONTOUR\n",
    "    cv2.putText(contouroutlines, \"Contour \"+str(i+1), (x,y-10), cv2.FONT_HERSHEY_SIMPLEX, 0.5, (255, 255, 0), 2)\n",
    "\n",
    "    \n",
    "cv2.imshow(\"Contour Outlines\",contouroutlines)          \n",
    "cv2.waitKey(0)                                          \n",
    "cv2.destroyAllWindows()\n",
    "\n",
    "print(\"There are \"+str(len(cnts))+\" contours!\")         "
   ]
  },
  {
   "cell_type": "markdown",
   "metadata": {},
   "source": [
    "Para obtener más detalles sobre cómo escribir texto en la pantalla y dibujar formas como rectángulos y círculos, puede visitar https://docs.opencv.org/4.0.0/dc/da5/tutorial_py_drawing_functions.html\n",
    "\n",
    "Si luego crea aplicaciones para la detección de objetos, puede usar este método para anotar lo que realmente detecta. ¡O también puede crear su propia obra de arte e imágenes usando solo código!\n",
    "\n",
    "Intentemos dibujar algo desde cero:\n",
    "\n",
    "**ACCESO DENEGADO**"
   ]
  },
  {
   "cell_type": "code",
   "execution_count": 43,
   "metadata": {},
   "outputs": [],
   "source": [
    "# Create an empty canvas (height,width,channels) - In this case: 3 colour channels, width 400, and height 300 \n",
    "canvas_accessdenied = np.zeros((600,800,3),dtype=\"uint8\")      \n",
    "\n",
    "# Add a Hollow Rectangle at (x=100,y=230) with the colour (255,255,0), and line thickness 2 \n",
    "cv2.rectangle(canvas_accessdenied, (100, 230), (760, 370), (255,255,0), 2)  \n",
    "\n",
    "# Add your Text at (x=150,y=320) the colour (100,100,255), fint size 2, and line thickness 5 \n",
    "cv2.putText(canvas_accessdenied, \"ACCESO DENEGADO\", (150,320), cv2.FONT_HERSHEY_SIMPLEX, 2, (100,100,255), 5)\n",
    "\n",
    "cv2.imshow(\"Canvas Access Denied\",canvas_accessdenied)  \n",
    "cv2.waitKey(0)                            # Cleanup after any key is pressed\n",
    "cv2.destroyAllWindows()"
   ]
  },
  {
   "cell_type": "markdown",
   "metadata": {},
   "source": [
    "Ahora acceso concedido:\n",
    "\n",
    "**ACCESO CONCEDIDO**"
   ]
  },
  {
   "cell_type": "code",
   "execution_count": 44,
   "metadata": {},
   "outputs": [],
   "source": [
    "# Create an empty canvas (height,width,channels) - In this case: 3 colour channels, width 400, and height 300 \n",
    "canvas_accessgranted = np.zeros((600,800,3),dtype=\"uint8\")      \n",
    "\n",
    "# Add a Hollow Rectangle at (x=100,y=230) with the colour (255,255,0), and line thickness 2 \n",
    "cv2.rectangle(canvas_accessgranted, (100, 230), (770, 370), (255,255,0), 2)  \n",
    "\n",
    "# Add your Text at (x=130,y=320) the colour (255,100,100), fint size 2, and line thickness 5 \n",
    "cv2.putText(canvas_accessgranted, \"ACCESO CONCEDIDO\", (130,320), cv2.FONT_HERSHEY_SIMPLEX, 2, (255,100,100), 5)\n",
    "\n",
    "cv2.imshow(\"Canvas Access Granted\",canvas_accessgranted)  \n",
    "cv2.waitKey(0)                            # Cleanup after any key is pressed\n",
    "cv2.destroyAllWindows()"
   ]
  },
  {
   "cell_type": "markdown",
   "metadata": {},
   "source": [
    "### Tarea 16: Crea un lienzo con 2 cuadros. El primer cuadro dice \"ACCESO CONCEDIDO\", y el segundo cuadro dice \"POR FAVOR CONTINÚE\"."
   ]
  },
  {
   "cell_type": "code",
   "execution_count": 61,
   "metadata": {},
   "outputs": [],
   "source": [
    "# Create an empty canvas (height,width,channels) - In this case: 3 colour channels, width 400, and height 300 \n",
    "canvas_accessgranted = np.zeros((600,800,3),dtype=\"uint8\")      \n",
    "\n",
    "# Add a Hollow Rectangle at (x=100,y=230) with the colour (255,255,0), and line thickness 2 \n",
    "cv2.rectangle(canvas_accessgranted, (100, 150), (770, 250), (255,255,0), 2)  \n",
    "\n",
    "# Add your Text at (x=130,y=320) the colour (255,100,100), fint size 2, and line thickness 5 \n",
    "cv2.putText(canvas_accessgranted, \"ACCESO CONCEDIDO\", (130,220), cv2.FONT_HERSHEY_SIMPLEX, 2, (255,100,100), 5)\n",
    "\n",
    "cv2.rectangle(canvas_accessgranted, (30, 350), (770, 450), (255,255,0), 2)  \n",
    "cv2.putText(canvas_accessgranted, \"POR FAVOR CONTINUE\", (50,420), cv2.FONT_HERSHEY_SIMPLEX, 2, (255,100,100), 5)\n",
    "\n",
    "cv2.imshow(\"Canvas Access Granted\",canvas_accessgranted)  \n",
    "cv2.waitKey(0)                            # Cleanup after any key is pressed\n",
    "cv2.destroyAllWindows()"
   ]
  },
  {
   "cell_type": "markdown",
   "metadata": {},
   "source": [
    "## ¡Felicidades!"
   ]
  },
  {
   "cell_type": "code",
   "execution_count": null,
   "metadata": {},
   "outputs": [],
   "source": []
  }
 ],
 "metadata": {
  "kernelspec": {
   "display_name": "Python 3",
   "language": "python",
   "name": "python3"
  },
  "language_info": {
   "codemirror_mode": {
    "name": "ipython",
    "version": 3
   },
   "file_extension": ".py",
   "mimetype": "text/x-python",
   "name": "python",
   "nbconvert_exporter": "python",
   "pygments_lexer": "ipython3",
   "version": "3.7.1"
  }
 },
 "nbformat": 4,
 "nbformat_minor": 4
}
